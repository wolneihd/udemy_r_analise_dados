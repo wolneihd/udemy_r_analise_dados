{
 "cells": [
  {
   "cell_type": "code",
   "execution_count": 16,
   "metadata": {},
   "outputs": [],
   "source": [
    "import pandas as pd"
   ]
  },
  {
   "cell_type": "code",
   "execution_count": 17,
   "metadata": {},
   "outputs": [],
   "source": [
    "covid_sp = pd.read_csv('covid/data/dados_covid_sp.csv', sep=';')"
   ]
  },
  {
   "cell_type": "code",
   "execution_count": 18,
   "metadata": {},
   "outputs": [
    {
     "data": {
      "text/html": [
       "<div>\n",
       "<style scoped>\n",
       "    .dataframe tbody tr th:only-of-type {\n",
       "        vertical-align: middle;\n",
       "    }\n",
       "\n",
       "    .dataframe tbody tr th {\n",
       "        vertical-align: top;\n",
       "    }\n",
       "\n",
       "    .dataframe thead th {\n",
       "        text-align: right;\n",
       "    }\n",
       "</style>\n",
       "<table border=\"1\" class=\"dataframe\">\n",
       "  <thead>\n",
       "    <tr style=\"text-align: right;\">\n",
       "      <th></th>\n",
       "      <th>nome_munic</th>\n",
       "      <th>codigo_ibge</th>\n",
       "      <th>dia</th>\n",
       "      <th>mes</th>\n",
       "      <th>datahora</th>\n",
       "      <th>casos</th>\n",
       "      <th>casos_novos</th>\n",
       "      <th>casos_pc</th>\n",
       "      <th>casos_mm7d</th>\n",
       "      <th>obitos</th>\n",
       "      <th>...</th>\n",
       "      <th>nome_drs</th>\n",
       "      <th>cod_drs</th>\n",
       "      <th>pop</th>\n",
       "      <th>pop_60</th>\n",
       "      <th>area</th>\n",
       "      <th>map_leg</th>\n",
       "      <th>map_leg_s</th>\n",
       "      <th>latitude</th>\n",
       "      <th>longitude</th>\n",
       "      <th>semana_epidem</th>\n",
       "    </tr>\n",
       "  </thead>\n",
       "  <tbody>\n",
       "    <tr>\n",
       "      <th>0</th>\n",
       "      <td>Adamantina</td>\n",
       "      <td>3500105</td>\n",
       "      <td>25</td>\n",
       "      <td>2</td>\n",
       "      <td>2020-02-25</td>\n",
       "      <td>0</td>\n",
       "      <td>0</td>\n",
       "      <td>0,00000000000000e+00</td>\n",
       "      <td>0,000000000000000</td>\n",
       "      <td>0</td>\n",
       "      <td>...</td>\n",
       "      <td>Marília</td>\n",
       "      <td>5</td>\n",
       "      <td>33894</td>\n",
       "      <td>7398</td>\n",
       "      <td>41199</td>\n",
       "      <td>0</td>\n",
       "      <td>8.0</td>\n",
       "      <td>-21,6820</td>\n",
       "      <td>-51,0737</td>\n",
       "      <td>9</td>\n",
       "    </tr>\n",
       "    <tr>\n",
       "      <th>1</th>\n",
       "      <td>Adolfo</td>\n",
       "      <td>3500204</td>\n",
       "      <td>25</td>\n",
       "      <td>2</td>\n",
       "      <td>2020-02-25</td>\n",
       "      <td>0</td>\n",
       "      <td>0</td>\n",
       "      <td>0,00000000000000e+00</td>\n",
       "      <td>0,000000000000000</td>\n",
       "      <td>0</td>\n",
       "      <td>...</td>\n",
       "      <td>São José do Rio Preto</td>\n",
       "      <td>15</td>\n",
       "      <td>3447</td>\n",
       "      <td>761</td>\n",
       "      <td>21106</td>\n",
       "      <td>0</td>\n",
       "      <td>8.0</td>\n",
       "      <td>-21,2325</td>\n",
       "      <td>-49,6451</td>\n",
       "      <td>9</td>\n",
       "    </tr>\n",
       "    <tr>\n",
       "      <th>2</th>\n",
       "      <td>Aguaí</td>\n",
       "      <td>3500303</td>\n",
       "      <td>25</td>\n",
       "      <td>2</td>\n",
       "      <td>2020-02-25</td>\n",
       "      <td>0</td>\n",
       "      <td>0</td>\n",
       "      <td>0,00000000000000e+00</td>\n",
       "      <td>0,000000000000000</td>\n",
       "      <td>0</td>\n",
       "      <td>...</td>\n",
       "      <td>São João da Boa Vista</td>\n",
       "      <td>14</td>\n",
       "      <td>35608</td>\n",
       "      <td>5245</td>\n",
       "      <td>47455</td>\n",
       "      <td>0</td>\n",
       "      <td>8.0</td>\n",
       "      <td>-22,0572</td>\n",
       "      <td>-46,9735</td>\n",
       "      <td>9</td>\n",
       "    </tr>\n",
       "    <tr>\n",
       "      <th>3</th>\n",
       "      <td>Águas da Prata</td>\n",
       "      <td>3500402</td>\n",
       "      <td>25</td>\n",
       "      <td>2</td>\n",
       "      <td>2020-02-25</td>\n",
       "      <td>0</td>\n",
       "      <td>0</td>\n",
       "      <td>0,00000000000000e+00</td>\n",
       "      <td>0,000000000000000</td>\n",
       "      <td>0</td>\n",
       "      <td>...</td>\n",
       "      <td>São João da Boa Vista</td>\n",
       "      <td>14</td>\n",
       "      <td>7797</td>\n",
       "      <td>1729</td>\n",
       "      <td>14267</td>\n",
       "      <td>0</td>\n",
       "      <td>8.0</td>\n",
       "      <td>-21,9319</td>\n",
       "      <td>-46,7176</td>\n",
       "      <td>9</td>\n",
       "    </tr>\n",
       "    <tr>\n",
       "      <th>4</th>\n",
       "      <td>Águas de Lindóia</td>\n",
       "      <td>3500501</td>\n",
       "      <td>25</td>\n",
       "      <td>2</td>\n",
       "      <td>2020-02-25</td>\n",
       "      <td>0</td>\n",
       "      <td>0</td>\n",
       "      <td>0,00000000000000e+00</td>\n",
       "      <td>0,000000000000000</td>\n",
       "      <td>0</td>\n",
       "      <td>...</td>\n",
       "      <td>Campinas</td>\n",
       "      <td>3</td>\n",
       "      <td>18374</td>\n",
       "      <td>3275</td>\n",
       "      <td>6013</td>\n",
       "      <td>0</td>\n",
       "      <td>8.0</td>\n",
       "      <td>-22,4733</td>\n",
       "      <td>-46,6314</td>\n",
       "      <td>9</td>\n",
       "    </tr>\n",
       "  </tbody>\n",
       "</table>\n",
       "<p>5 rows × 26 columns</p>\n",
       "</div>"
      ],
      "text/plain": [
       "         nome_munic  codigo_ibge  dia  mes    datahora  casos  casos_novos  \\\n",
       "0        Adamantina      3500105   25    2  2020-02-25      0            0   \n",
       "1            Adolfo      3500204   25    2  2020-02-25      0            0   \n",
       "2             Aguaí      3500303   25    2  2020-02-25      0            0   \n",
       "3    Águas da Prata      3500402   25    2  2020-02-25      0            0   \n",
       "4  Águas de Lindóia      3500501   25    2  2020-02-25      0            0   \n",
       "\n",
       "               casos_pc         casos_mm7d  obitos  ...  \\\n",
       "0  0,00000000000000e+00  0,000000000000000       0  ...   \n",
       "1  0,00000000000000e+00  0,000000000000000       0  ...   \n",
       "2  0,00000000000000e+00  0,000000000000000       0  ...   \n",
       "3  0,00000000000000e+00  0,000000000000000       0  ...   \n",
       "4  0,00000000000000e+00  0,000000000000000       0  ...   \n",
       "\n",
       "                nome_drs cod_drs    pop pop_60   area  map_leg map_leg_s  \\\n",
       "0                Marília       5  33894   7398  41199        0       8.0   \n",
       "1  São José do Rio Preto      15   3447    761  21106        0       8.0   \n",
       "2  São João da Boa Vista      14  35608   5245  47455        0       8.0   \n",
       "3  São João da Boa Vista      14   7797   1729  14267        0       8.0   \n",
       "4               Campinas       3  18374   3275   6013        0       8.0   \n",
       "\n",
       "   latitude  longitude  semana_epidem  \n",
       "0  -21,6820   -51,0737              9  \n",
       "1  -21,2325   -49,6451              9  \n",
       "2  -22,0572   -46,9735              9  \n",
       "3  -21,9319   -46,7176              9  \n",
       "4  -22,4733   -46,6314              9  \n",
       "\n",
       "[5 rows x 26 columns]"
      ]
     },
     "execution_count": 18,
     "metadata": {},
     "output_type": "execute_result"
    }
   ],
   "source": [
    "covid_sp.head()"
   ]
  },
  {
   "cell_type": "code",
   "execution_count": 19,
   "metadata": {},
   "outputs": [],
   "source": [
    "covid_sp['datahora'] = pd.to_datetime(covid_sp['datahora'], format='%Y-%m-%d')"
   ]
  },
  {
   "cell_type": "code",
   "execution_count": 20,
   "metadata": {},
   "outputs": [
    {
     "name": "stdout",
     "output_type": "stream",
     "text": [
      "<class 'pandas.core.frame.DataFrame'>\n",
      "RangeIndex: 777784 entries, 0 to 777783\n",
      "Data columns (total 26 columns):\n",
      " #   Column         Non-Null Count   Dtype         \n",
      "---  ------         --------------   -----         \n",
      " 0   nome_munic     777784 non-null  object        \n",
      " 1   codigo_ibge    777784 non-null  int64         \n",
      " 2   dia            777784 non-null  int64         \n",
      " 3   mes            777784 non-null  int64         \n",
      " 4   datahora       777784 non-null  datetime64[ns]\n",
      " 5   casos          777784 non-null  int64         \n",
      " 6   casos_novos    777784 non-null  int64         \n",
      " 7   casos_pc       777784 non-null  object        \n",
      " 8   casos_mm7d     777784 non-null  object        \n",
      " 9   obitos         777784 non-null  int64         \n",
      " 10  obitos_novos   777784 non-null  int64         \n",
      " 11  obitos_pc      777784 non-null  object        \n",
      " 12  obitos_mm7d    777784 non-null  object        \n",
      " 13  letalidade     777784 non-null  object        \n",
      " 14  nome_ra        776580 non-null  object        \n",
      " 15  cod_ra         777784 non-null  int64         \n",
      " 16  nome_drs       776580 non-null  object        \n",
      " 17  cod_drs        777784 non-null  int64         \n",
      " 18  pop            777784 non-null  int64         \n",
      " 19  pop_60         777784 non-null  int64         \n",
      " 20  area           777784 non-null  int64         \n",
      " 21  map_leg        776580 non-null  object        \n",
      " 22  map_leg_s      776580 non-null  float64       \n",
      " 23  latitude       777784 non-null  object        \n",
      " 24  longitude      777784 non-null  object        \n",
      " 25  semana_epidem  777784 non-null  int64         \n",
      "dtypes: datetime64[ns](1), float64(1), int64(13), object(11)\n",
      "memory usage: 154.3+ MB\n"
     ]
    }
   ],
   "source": [
    "covid_sp.info()"
   ]
  },
  {
   "cell_type": "code",
   "execution_count": 21,
   "metadata": {},
   "outputs": [
    {
     "data": {
      "text/html": [
       "<div>\n",
       "<style scoped>\n",
       "    .dataframe tbody tr th:only-of-type {\n",
       "        vertical-align: middle;\n",
       "    }\n",
       "\n",
       "    .dataframe tbody tr th {\n",
       "        vertical-align: top;\n",
       "    }\n",
       "\n",
       "    .dataframe thead th {\n",
       "        text-align: right;\n",
       "    }\n",
       "</style>\n",
       "<table border=\"1\" class=\"dataframe\">\n",
       "  <thead>\n",
       "    <tr style=\"text-align: right;\">\n",
       "      <th></th>\n",
       "      <th>codigo_ibge</th>\n",
       "      <th>dia</th>\n",
       "      <th>mes</th>\n",
       "      <th>datahora</th>\n",
       "      <th>casos</th>\n",
       "      <th>casos_novos</th>\n",
       "      <th>obitos</th>\n",
       "      <th>obitos_novos</th>\n",
       "      <th>cod_ra</th>\n",
       "      <th>cod_drs</th>\n",
       "      <th>pop</th>\n",
       "      <th>pop_60</th>\n",
       "      <th>area</th>\n",
       "      <th>map_leg_s</th>\n",
       "      <th>semana_epidem</th>\n",
       "    </tr>\n",
       "  </thead>\n",
       "  <tbody>\n",
       "    <tr>\n",
       "      <th>count</th>\n",
       "      <td>7.777840e+05</td>\n",
       "      <td>777784.000000</td>\n",
       "      <td>777784.000000</td>\n",
       "      <td>777784</td>\n",
       "      <td>7.777840e+05</td>\n",
       "      <td>777784.000000</td>\n",
       "      <td>777784.000000</td>\n",
       "      <td>777784.000000</td>\n",
       "      <td>777784.000000</td>\n",
       "      <td>777784.000000</td>\n",
       "      <td>7.777840e+05</td>\n",
       "      <td>7.777840e+05</td>\n",
       "      <td>777784.000000</td>\n",
       "      <td>776580.000000</td>\n",
       "      <td>777784.000000</td>\n",
       "    </tr>\n",
       "    <tr>\n",
       "      <th>mean</th>\n",
       "      <td>3.538715e+06</td>\n",
       "      <td>15.684385</td>\n",
       "      <td>6.308970</td>\n",
       "      <td>2021-10-18 12:00:00.000000256</td>\n",
       "      <td>5.826116e+03</td>\n",
       "      <td>8.515248</td>\n",
       "      <td>179.462659</td>\n",
       "      <td>0.231955</td>\n",
       "      <td>8.470588</td>\n",
       "      <td>9.140867</td>\n",
       "      <td>6.910201e+04</td>\n",
       "      <td>1.057539e+04</td>\n",
       "      <td>34178.256966</td>\n",
       "      <td>3.441982</td>\n",
       "      <td>25.763289</td>\n",
       "    </tr>\n",
       "    <tr>\n",
       "      <th>min</th>\n",
       "      <td>3.500105e+06</td>\n",
       "      <td>1.000000</td>\n",
       "      <td>1.000000</td>\n",
       "      <td>2020-02-25 00:00:00</td>\n",
       "      <td>-1.000000e+00</td>\n",
       "      <td>-3064.000000</td>\n",
       "      <td>0.000000</td>\n",
       "      <td>-81.000000</td>\n",
       "      <td>0.000000</td>\n",
       "      <td>0.000000</td>\n",
       "      <td>0.000000e+00</td>\n",
       "      <td>0.000000e+00</td>\n",
       "      <td>0.000000</td>\n",
       "      <td>1.000000</td>\n",
       "      <td>1.000000</td>\n",
       "    </tr>\n",
       "    <tr>\n",
       "      <th>25%</th>\n",
       "      <td>3.514601e+06</td>\n",
       "      <td>8.000000</td>\n",
       "      <td>3.000000</td>\n",
       "      <td>2020-12-21 18:00:00</td>\n",
       "      <td>2.350000e+02</td>\n",
       "      <td>0.000000</td>\n",
       "      <td>6.000000</td>\n",
       "      <td>0.000000</td>\n",
       "      <td>4.000000</td>\n",
       "      <td>5.000000</td>\n",
       "      <td>5.530000e+03</td>\n",
       "      <td>9.260000e+02</td>\n",
       "      <td>13391.000000</td>\n",
       "      <td>2.000000</td>\n",
       "      <td>13.000000</td>\n",
       "    </tr>\n",
       "    <tr>\n",
       "      <th>50%</th>\n",
       "      <td>3.528754e+06</td>\n",
       "      <td>16.000000</td>\n",
       "      <td>6.000000</td>\n",
       "      <td>2021-10-18 12:00:00</td>\n",
       "      <td>9.360000e+02</td>\n",
       "      <td>0.000000</td>\n",
       "      <td>23.000000</td>\n",
       "      <td>0.000000</td>\n",
       "      <td>8.000000</td>\n",
       "      <td>9.000000</td>\n",
       "      <td>1.328300e+04</td>\n",
       "      <td>2.193000e+03</td>\n",
       "      <td>24806.500000</td>\n",
       "      <td>3.000000</td>\n",
       "      <td>24.000000</td>\n",
       "    </tr>\n",
       "    <tr>\n",
       "      <th>75%</th>\n",
       "      <td>3.543238e+06</td>\n",
       "      <td>23.000000</td>\n",
       "      <td>9.000000</td>\n",
       "      <td>2022-08-15 06:00:00</td>\n",
       "      <td>3.486000e+03</td>\n",
       "      <td>2.000000</td>\n",
       "      <td>84.000000</td>\n",
       "      <td>0.000000</td>\n",
       "      <td>13.000000</td>\n",
       "      <td>14.000000</td>\n",
       "      <td>4.107300e+04</td>\n",
       "      <td>6.377000e+03</td>\n",
       "      <td>45444.000000</td>\n",
       "      <td>5.000000</td>\n",
       "      <td>38.250000</td>\n",
       "    </tr>\n",
       "    <tr>\n",
       "      <th>max</th>\n",
       "      <td>9.999999e+06</td>\n",
       "      <td>31.000000</td>\n",
       "      <td>12.000000</td>\n",
       "      <td>2023-06-12 00:00:00</td>\n",
       "      <td>1.179717e+06</td>\n",
       "      <td>8646.000000</td>\n",
       "      <td>44991.000000</td>\n",
       "      <td>378.000000</td>\n",
       "      <td>16.000000</td>\n",
       "      <td>17.000000</td>\n",
       "      <td>1.186966e+07</td>\n",
       "      <td>1.853286e+06</td>\n",
       "      <td>182626.000000</td>\n",
       "      <td>8.000000</td>\n",
       "      <td>53.000000</td>\n",
       "    </tr>\n",
       "    <tr>\n",
       "      <th>std</th>\n",
       "      <td>2.549588e+05</td>\n",
       "      <td>8.823961</td>\n",
       "      <td>3.375095</td>\n",
       "      <td>NaN</td>\n",
       "      <td>3.604389e+04</td>\n",
       "      <td>68.594567</td>\n",
       "      <td>1390.921946</td>\n",
       "      <td>2.758550</td>\n",
       "      <td>4.571577</td>\n",
       "      <td>4.985459</td>\n",
       "      <td>4.794512e+05</td>\n",
       "      <td>7.465416e+04</td>\n",
       "      <td>31348.555189</td>\n",
       "      <td>2.140958</td>\n",
       "      <td>14.784495</td>\n",
       "    </tr>\n",
       "  </tbody>\n",
       "</table>\n",
       "</div>"
      ],
      "text/plain": [
       "        codigo_ibge            dia            mes  \\\n",
       "count  7.777840e+05  777784.000000  777784.000000   \n",
       "mean   3.538715e+06      15.684385       6.308970   \n",
       "min    3.500105e+06       1.000000       1.000000   \n",
       "25%    3.514601e+06       8.000000       3.000000   \n",
       "50%    3.528754e+06      16.000000       6.000000   \n",
       "75%    3.543238e+06      23.000000       9.000000   \n",
       "max    9.999999e+06      31.000000      12.000000   \n",
       "std    2.549588e+05       8.823961       3.375095   \n",
       "\n",
       "                            datahora         casos    casos_novos  \\\n",
       "count                         777784  7.777840e+05  777784.000000   \n",
       "mean   2021-10-18 12:00:00.000000256  5.826116e+03       8.515248   \n",
       "min              2020-02-25 00:00:00 -1.000000e+00   -3064.000000   \n",
       "25%              2020-12-21 18:00:00  2.350000e+02       0.000000   \n",
       "50%              2021-10-18 12:00:00  9.360000e+02       0.000000   \n",
       "75%              2022-08-15 06:00:00  3.486000e+03       2.000000   \n",
       "max              2023-06-12 00:00:00  1.179717e+06    8646.000000   \n",
       "std                              NaN  3.604389e+04      68.594567   \n",
       "\n",
       "              obitos   obitos_novos         cod_ra        cod_drs  \\\n",
       "count  777784.000000  777784.000000  777784.000000  777784.000000   \n",
       "mean      179.462659       0.231955       8.470588       9.140867   \n",
       "min         0.000000     -81.000000       0.000000       0.000000   \n",
       "25%         6.000000       0.000000       4.000000       5.000000   \n",
       "50%        23.000000       0.000000       8.000000       9.000000   \n",
       "75%        84.000000       0.000000      13.000000      14.000000   \n",
       "max     44991.000000     378.000000      16.000000      17.000000   \n",
       "std      1390.921946       2.758550       4.571577       4.985459   \n",
       "\n",
       "                pop        pop_60           area      map_leg_s  semana_epidem  \n",
       "count  7.777840e+05  7.777840e+05  777784.000000  776580.000000  777784.000000  \n",
       "mean   6.910201e+04  1.057539e+04   34178.256966       3.441982      25.763289  \n",
       "min    0.000000e+00  0.000000e+00       0.000000       1.000000       1.000000  \n",
       "25%    5.530000e+03  9.260000e+02   13391.000000       2.000000      13.000000  \n",
       "50%    1.328300e+04  2.193000e+03   24806.500000       3.000000      24.000000  \n",
       "75%    4.107300e+04  6.377000e+03   45444.000000       5.000000      38.250000  \n",
       "max    1.186966e+07  1.853286e+06  182626.000000       8.000000      53.000000  \n",
       "std    4.794512e+05  7.465416e+04   31348.555189       2.140958      14.784495  "
      ]
     },
     "execution_count": 21,
     "metadata": {},
     "output_type": "execute_result"
    }
   ],
   "source": [
    "covid_sp.describe()"
   ]
  },
  {
   "cell_type": "code",
   "execution_count": 24,
   "metadata": {},
   "outputs": [
    {
     "data": {
      "text/plain": [
       "'minimo: 0, maximo: 67'"
      ]
     },
     "execution_count": 24,
     "metadata": {},
     "output_type": "execute_result"
    }
   ],
   "source": [
    "# casos de campinas:\n",
    "covid_campinas = covid_sp[covid_sp['nome_munic'] == \"Campinas\"]\n",
    "minimo = min(covid_campinas['obitos_novos'])\n",
    "maximo = max(covid_campinas['obitos_novos'])\n",
    "f'minimo: {minimo}, maximo: {maximo}'"
   ]
  },
  {
   "cell_type": "code",
   "execution_count": 45,
   "metadata": {},
   "outputs": [
    {
     "data": {
      "text/plain": [
       "0.00       0.00\n",
       "0.25      15.75\n",
       "0.50     107.00\n",
       "0.75     298.25\n",
       "1.00    2101.00\n",
       "Name: casos_novos, dtype: float64"
      ]
     },
     "execution_count": 45,
     "metadata": {},
     "output_type": "execute_result"
    }
   ],
   "source": [
    "covid_campinas['casos_novos'].quantile([0, .25, .5, .75, 1])"
   ]
  },
  {
   "cell_type": "code",
   "execution_count": 36,
   "metadata": {},
   "outputs": [
    {
     "data": {
      "text/plain": [
       "np.float64(282.5)"
      ]
     },
     "execution_count": 36,
     "metadata": {},
     "output_type": "execute_result"
    }
   ],
   "source": [
    "# amplitude interquartil:\n",
    "q1 = covid_campinas['casos_novos'].quantile(0.25)\n",
    "q3 = covid_campinas['casos_novos'].quantile(0.75)\n",
    "IQR = q3 - q1\n",
    "IQR"
   ]
  },
  {
   "cell_type": "code",
   "execution_count": 37,
   "metadata": {},
   "outputs": [],
   "source": [
    "import seaborn as sns"
   ]
  },
  {
   "cell_type": "code",
   "execution_count": 41,
   "metadata": {},
   "outputs": [
    {
     "data": {
      "text/plain": [
       "<Axes: xlabel='casos_novos', ylabel='Count'>"
      ]
     },
     "execution_count": 41,
     "metadata": {},
     "output_type": "execute_result"
    },
    {
     "data": {
      "image/png": "[encoded data removed]",
      "text/plain": [
       "<Figure size 640x480 with 1 Axes>"
      ]
     },
     "metadata": {},
     "output_type": "display_data"
    }
   ],
   "source": [
    "sns.histplot(covid_campinas['casos_novos'])"
   ]
  },
  {
   "cell_type": "code",
   "execution_count": 44,
   "metadata": {},
   "outputs": [
    {
     "data": {
      "text/html": [
       "<div>\n",
       "<style scoped>\n",
       "    .dataframe tbody tr th:only-of-type {\n",
       "        vertical-align: middle;\n",
       "    }\n",
       "\n",
       "    .dataframe tbody tr th {\n",
       "        vertical-align: top;\n",
       "    }\n",
       "\n",
       "    .dataframe thead th {\n",
       "        text-align: right;\n",
       "    }\n",
       "</style>\n",
       "<table border=\"1\" class=\"dataframe\">\n",
       "  <thead>\n",
       "    <tr style=\"text-align: right;\">\n",
       "      <th></th>\n",
       "      <th>casos_novos</th>\n",
       "    </tr>\n",
       "  </thead>\n",
       "  <tbody>\n",
       "    <tr>\n",
       "      <th>count</th>\n",
       "      <td>1204.000000</td>\n",
       "    </tr>\n",
       "    <tr>\n",
       "      <th>mean</th>\n",
       "      <td>186.389535</td>\n",
       "    </tr>\n",
       "    <tr>\n",
       "      <th>std</th>\n",
       "      <td>228.579764</td>\n",
       "    </tr>\n",
       "    <tr>\n",
       "      <th>min</th>\n",
       "      <td>0.000000</td>\n",
       "    </tr>\n",
       "    <tr>\n",
       "      <th>25%</th>\n",
       "      <td>15.750000</td>\n",
       "    </tr>\n",
       "    <tr>\n",
       "      <th>50%</th>\n",
       "      <td>107.000000</td>\n",
       "    </tr>\n",
       "    <tr>\n",
       "      <th>75%</th>\n",
       "      <td>298.250000</td>\n",
       "    </tr>\n",
       "    <tr>\n",
       "      <th>max</th>\n",
       "      <td>2101.000000</td>\n",
       "    </tr>\n",
       "  </tbody>\n",
       "</table>\n",
       "</div>"
      ],
      "text/plain": [
       "       casos_novos\n",
       "count  1204.000000\n",
       "mean    186.389535\n",
       "std     228.579764\n",
       "min       0.000000\n",
       "25%      15.750000\n",
       "50%     107.000000\n",
       "75%     298.250000\n",
       "max    2101.000000"
      ]
     },
     "execution_count": 44,
     "metadata": {},
     "output_type": "execute_result"
    }
   ],
   "source": [
    "pd.DataFrame(covid_campinas['casos_novos'].describe())"
   ]
  },
  {
   "cell_type": "code",
   "execution_count": 57,
   "metadata": {},
   "outputs": [
    {
     "data": {
      "text/plain": [
       "<Axes: xlabel='casos_novos'>"
      ]
     },
     "execution_count": 57,
     "metadata": {},
     "output_type": "execute_result"
    },
    {
     "data": {
      "image/png": "[encoded data removed]",
      "text/plain": [
       "<Figure size 640x480 with 1 Axes>"
      ]
     },
     "metadata": {},
     "output_type": "display_data"
    }
   ],
   "source": [
    "query = covid_campinas['datahora'].between('2020-07-01','2020-07-31')\n",
    "covid_julho_campinas = covid_campinas[query]\n",
    "sns.boxplot(covid_julho_campinas, x='casos_novos')"
   ]
  },
  {
   "cell_type": "code",
   "execution_count": 55,
   "metadata": {},
   "outputs": [
    {
     "data": {
      "text/plain": [
       "0.00     79.0\n",
       "0.25    181.5\n",
       "0.50    303.0\n",
       "0.75    418.0\n",
       "1.00    701.0\n",
       "Name: casos_novos, dtype: float64"
      ]
     },
     "execution_count": 55,
     "metadata": {},
     "output_type": "execute_result"
    }
   ],
   "source": [
    "covid_julho_campinas['casos_novos'].quantile([0,.25,.5,.75,1])"
   ]
  },
  {
   "cell_type": "code",
   "execution_count": 58,
   "metadata": {},
   "outputs": [
    {
     "data": {
      "text/plain": [
       "<Axes: xlabel='casos_novos'>"
      ]
     },
     "execution_count": 58,
     "metadata": {},
     "output_type": "execute_result"
    },
    {
     "data": {
      "image/png": "[encoded data removed]",
      "text/plain": [
       "<Figure size 640x480 with 1 Axes>"
      ]
     },
     "metadata": {},
     "output_type": "display_data"
    }
   ],
   "source": [
    "sns.boxplot(covid_campinas, x='casos_novos')"
   ]
  },
  {
   "cell_type": "code",
   "execution_count": 82,
   "metadata": {},
   "outputs": [
    {
     "data": {
      "text/plain": [
       "<Axes: xlabel='casos_novos'>"
      ]
     },
     "execution_count": 82,
     "metadata": {},
     "output_type": "execute_result"
    },
    {
     "data": {
      "image/png": "[encoded data removed]",
      "text/plain": [
       "<Figure size 640x480 with 1 Axes>"
      ]
     },
     "metadata": {},
     "output_type": "display_data"
    }
   ],
   "source": [
    "# amplitude interquartil:\n",
    "q1 = covid_campinas['casos_novos'].quantile(0.25)\n",
    "q3 = covid_campinas['casos_novos'].quantile(0.75)\n",
    "iqr = q3 - q1\n",
    "\n",
    "# Limites para outliers\n",
    "lower_bound = q1 - 1.5 * iqr\n",
    "upper_bound = q3 + 1.5 * iqr\n",
    "\n",
    "# retirando outliers\n",
    "covid_campinas_sem_outliers = covid_campinas[(covid_campinas['casos_novos'] < upper_bound)]\n",
    "sns.boxplot(data=covid_campinas_sem_outliers, x='casos_novos')\n"
   ]
  },
  {
   "cell_type": "code",
   "execution_count": 84,
   "metadata": {},
   "outputs": [
    {
     "data": {
      "text/plain": [
       "np.float64(52248.70848556903)"
      ]
     },
     "execution_count": 84,
     "metadata": {},
     "output_type": "execute_result"
    }
   ],
   "source": [
    "# desvio populacional > soma das diferenças com relação a média.\n",
    "covid_campinas['casos_novos'].var()"
   ]
  },
  {
   "cell_type": "code",
   "execution_count": 87,
   "metadata": {},
   "outputs": [
    {
     "data": {
      "text/plain": [
       "np.float64(228.5797639459124)"
      ]
     },
     "execution_count": 87,
     "metadata": {},
     "output_type": "execute_result"
    }
   ],
   "source": [
    "# Return sample standard deviation over requested axis.\n",
    "covid_campinas['casos_novos'].std()"
   ]
  }
 ],
 "metadata": {
  "kernelspec": {
   "display_name": "Python 3",
   "language": "python",
   "name": "python3"
  },
  "language_info": {
   "codemirror_mode": {
    "name": "ipython",
    "version": 3
   },
   "file_extension": ".py",
   "mimetype": "text/x-python",
   "name": "python",
   "nbconvert_exporter": "python",
   "pygments_lexer": "ipython3",
   "version": "3.12.3"
  }
 },
 "nbformat": 4,
 "nbformat_minor": 2
}
